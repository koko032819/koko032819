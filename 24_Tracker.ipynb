{
  "nbformat": 4,
  "nbformat_minor": 0,
  "metadata": {
    "colab": {
      "provenance": [],
      "authorship_tag": "ABX9TyP+1H/gY42jSeut2n8hq3WB"
    },
    "kernelspec": {
      "name": "python3",
      "display_name": "Python 3"
    },
    "language_info": {
      "name": "python"
    }
  },
  "cells": [
    {
      "cell_type": "code",
      "execution_count": null,
      "metadata": {
        "id": "4KKdSfcReubH"
      },
      "outputs": [],
      "source": [
        "import cv2\n",
        "import numpy as np\n",
        "import sys\n",
        "\n",
        "# KCF_tracker = cv2.TrackerKCF_create()\n",
        "CSRT_tracker = cv2.TrackerCSRT_create()\n",
        "\n",
        "video = cv2.VideoCapture('/Users/misa8/Desktop/race.mp4')\n",
        "\n",
        "if not video.isOpened():\n",
        "    print(\"Can't open this video\")\n",
        "    sys.exit()\n",
        "\n",
        "# Read First Frame\n",
        "ok, frame = video.read()\n",
        "bbox = cv2.selectROI(frame, False)\n",
        "ok = CSRT_tracker.init(frame, bbox)\n",
        "\n",
        "while True:\n",
        "    ok, frame = video.read()\n",
        "    if not ok:\n",
        "        break\n",
        "    timer = cv2.getTickCount()\n",
        "\n",
        "    #Update Tracker\n",
        "    ok, bbox = CSRT_tracker.update(frame)\n",
        "\n",
        "    if ok:\n",
        "        (x, y, w, h) = [int(v) for v in bbox]\n",
        "        cv2.rectangle(frame, (x, y), (x + w, y + h), (0,255,0), 2, 1)\n",
        "    else:\n",
        "        cv2.putText(frame, 'Error', (100, 80), cv2.FONT_HERSHEY_SIMPLEX, 1, (0,0,255), 2)\n",
        "\n",
        "    cv2.imshow('Tracking', frame)\n",
        "\n",
        "    # Esc pressed\n",
        "    if cv2.waitKey(1) & 0XFF == 27:\n",
        "        break"
      ]
    }
  ]
}